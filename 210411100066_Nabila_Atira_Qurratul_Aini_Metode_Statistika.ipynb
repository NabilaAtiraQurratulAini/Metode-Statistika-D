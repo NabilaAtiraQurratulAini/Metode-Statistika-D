{
  "nbformat": 4,
  "nbformat_minor": 0,
  "metadata": {
    "colab": {
      "name": "210411100066_Nabila Atira Qurratul Aini_Metode Statistika.ipynb",
      "provenance": [],
      "collapsed_sections": [],
      "authorship_tag": "ABX9TyOmw3fzd1Qn/yzqAeIfMlkT",
      "include_colab_link": true
    },
    "kernelspec": {
      "name": "python3",
      "display_name": "Python 3"
    },
    "language_info": {
      "name": "python"
    }
  },
  "cells": [
    {
      "cell_type": "markdown",
      "metadata": {
        "id": "view-in-github",
        "colab_type": "text"
      },
      "source": [
        "<a href=\"https://colab.research.google.com/github/NabilaAtiraQurratulAini/Metode-Statistika-D/blob/main/210411100066_Nabila_Atira_Qurratul_Aini_Metode_Statistika.ipynb\" target=\"_parent\"><img src=\"https://colab.research.google.com/assets/colab-badge.svg\" alt=\"Open In Colab\"/></a>"
      ]
    },
    {
      "cell_type": "markdown",
      "source": [
        "NAMA : NABILA ATIRA QURRATUL AINI\n",
        "\n",
        "NIM : 210411100066\n",
        "\n",
        "KELAS : METODE STATISTIKA D"
      ],
      "metadata": {
        "id": "v-3H2655L_Gg"
      }
    },
    {
      "cell_type": "markdown",
      "source": [
        "# **EXPONENTIAL SMOOTHING**"
      ],
      "metadata": {
        "id": "7v4SkTYFAd4c"
      }
    },
    {
      "cell_type": "markdown",
      "source": [
        "Exponential Smoothing atau Penghalusan Eksponential adalah suatu metode peramalan rata - rata bergerak yangmemberikan bobot secara eksponential atau bertingkat pada data - data terbarunya sehingga data - data terbaru tersebut akan mendapatkan bobot yang lebih besar. Dengan kata lain, semakin baru atau semakin kini datanya, semakin besar pula bobotnya. Hal ini dikarenakan data yang terbaru dianggap lebih relavan sehingga diberikan bobot yang lebih besar. Parameter penghalusan *(smoothing)* biasanya dilambangkan α *(alpha)*."
      ],
      "metadata": {
        "id": "EkDLHK7wZ4J-"
      }
    },
    {
      "cell_type": "markdown",
      "source": [
        "### **Pengertian Exponential Smoothing Menurut Para Ahli**\n",
        "\n",
        "**Materi Render dan Heizer (2005)**\n",
        "\n",
        "Penghapusan Exponential adalah teknik peramalan rata-rata bergerak dengan pembobotan dimana data diberi bobot oleh sebuah fungsi exponential.\n",
        "\n",
        "**Menurut Trihendradi (2005)**\n",
        "\n",
        "Analisis Exponential Smoothing merupakan salah satu analisis deret waktu, dan merupakan metode peramalan dengan memberi nilai pembobot pada serangkaian pengamatan sebelumnya untuk memprediksi nilai masa depan.\n",
        "\n",
        "**Menurut T. Hani Handoko (2011)**\n",
        "\n",
        "Exponential Smoothing adalah suatu tipe teknik peramalan rata-rata bergerak yang melakukan penimbangan terhadap data masa lalu dengan cara eksponensial sehingga data paling akhir mempunyai bobot atau timbangan lebih besar dalam rata-rata bergerak."
      ],
      "metadata": {
        "id": "9nB3p_Upp4z9"
      }
    },
    {
      "cell_type": "markdown",
      "source": [
        "### **Peramalan dengan Exponential Smoothing (Penghalusan Eksponential)**\n",
        "\n",
        "Metode Peramalan Exponential Smoothing atau Penghalusan Eksponential (Penghalusan Bertingkat) ini banyak digunakan untuk meramalkan permintaan barang (demand) yang perubahannya sangat cepat."
      ],
      "metadata": {
        "id": "rE7GNQ3Ip0KO"
      }
    },
    {
      "cell_type": "markdown",
      "source": [
        "### **Cara Menghitung Exponential Smoothing**\n",
        "\n",
        "Peramalan dengan Exponential Smoothing atau Metode Penghapusan Eksponential ini cukup mudah, yaitu dengan memasukkan perkiraan permintaan sekarang dengan data permintaan nyata atau data permintaan aktual ke dalam rumus Exponential Smoothing.\n",
        "\n",
        "Rumus Exponential Smoothing (Penghalusan Eksponential)\n",
        "\n",
        "**Ft + 1 = Ft + α (Yt - Ft)**\n",
        "\n",
        "Keterangan :\n",
        "\n",
        "**Ft + 1** = Perkiraan Baru (Untuk Periode Waktu t + 1)\n",
        "\n",
        "**Ft** = Ramalan Sebelumnya (Untuk Periode Waktu t)\n",
        "\n",
        "**α** = Konstanta Perataan (0 <= α <= 1)\n",
        "\n",
        "**Yt** = Permintaan Aktual Periode Sebelumnya\n",
        "\n",
        "Idenya Sederhana - Estimani Baru adalah estimnasi lama ditambah sebagian kecil dari kesalahan di periode terakhir"
      ],
      "metadata": {
        "id": "CEH9X5yZBMaE"
      }
    },
    {
      "cell_type": "markdown",
      "source": [
        "### **Contoh Kasus Cara Menghitung Exponential Smoothing**\n",
        "\n",
        "Sebuah Toko yang menjual Sabun ingin meramalkan permintaan produknya di wilayahnya. Metode yang digunakan adalah metode Penghalusan Eksponensial atau Exponential Smoothing. Toko tersebut menggunakan Konstanta α = 0,1. Perkiraan Permintaan atau Demand untuk bulan Juli adalah 0 unit. Namun pada kenyataannya, permintaan aktual pada bulan Juli tersebut hanya sebanyak 100 unit. Berapakah perkiraan untuk bulan Agustus?"
      ],
      "metadata": {
        "id": "EDS9wRppqQUO"
      }
    },
    {
      "cell_type": "code",
      "source": [
        "from google.colab import files\n",
        "uploaded = files.upload()"
      ],
      "metadata": {
        "colab": {
          "resources": {
            "http://localhost:8080/nbextensions/google.colab/files.js": {
              "data": "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",
              "ok": true,
              "headers": [
                [
                  "content-type",
                  "application/javascript"
                ]
              ],
              "status": 200,
              "status_text": ""
            }
          },
          "base_uri": "https://localhost:8080/",
          "height": 73
        },
        "id": "ioQOx8SZHhIT",
        "outputId": "a26c258e-0022-464b-8cc9-201f316d00d0"
      },
      "execution_count": null,
      "outputs": [
        {
          "output_type": "display_data",
          "data": {
            "text/plain": [
              "<IPython.core.display.HTML object>"
            ],
            "text/html": [
              "\n",
              "     <input type=\"file\" id=\"files-aa9dcbeb-78d6-4fdb-b891-728bb09d2779\" name=\"files[]\" multiple disabled\n",
              "        style=\"border:none\" />\n",
              "     <output id=\"result-aa9dcbeb-78d6-4fdb-b891-728bb09d2779\">\n",
              "      Upload widget is only available when the cell has been executed in the\n",
              "      current browser session. Please rerun this cell to enable.\n",
              "      </output>\n",
              "      <script src=\"/nbextensions/google.colab/files.js\"></script> "
            ]
          },
          "metadata": {}
        },
        {
          "output_type": "stream",
          "name": "stdout",
          "text": [
            "Saving Penjualan-Sabun.csv to Penjualan-Sabun (1).csv\n"
          ]
        }
      ]
    },
    {
      "cell_type": "code",
      "source": [
        "#import ke pandas\n",
        "import pandas as pd\n",
        "iya = pd.read_csv('Penjualan-Sabun.csv', parse_dates=['Bulan'])\n",
        "print(iya.to_string())"
      ],
      "metadata": {
        "colab": {
          "base_uri": "https://localhost:8080/"
        },
        "id": "kR_zog5IHsNs",
        "outputId": "cdaa95be-f94e-4310-ad78-580ca5bbe4d9"
      },
      "execution_count": null,
      "outputs": [
        {
          "output_type": "stream",
          "name": "stdout",
          "text": [
            "      Bulan  Data Aktual  Ramalan α = 0.1\n",
            "0    Jul-03        100.0         0.000000\n",
            "1    Aug-03        106.0        10.000000\n",
            "2    Sep-03        102.0        19.600000\n",
            "3    Oct-03        110.0        27.840000\n",
            "4    Nov-03        108.0        36.056000\n",
            "5    Dec-03        114.0        43.250400\n",
            "6    Jan-04        120.0        50.325360\n",
            "7    Feb-04        116.0        57.292824\n",
            "8    Mar-04        118.0        63.163542\n",
            "9    Apr-04        122.0        68.647187\n",
            "10   May-04        130.0        73.982469\n",
            "11   Jun-04        126.0        79.584222\n",
            "12   Jul-04        134.0        84.225800\n",
            "13   Aug-04        132.0        89.203220\n",
            "14   Sep-04        138.0        93.482898\n",
            "15   Oct-04        136.0        97.934608\n",
            "16   Nov-04        138.0       101.741147\n",
            "17   Dec-04        140.0       105.367032\n",
            "18   Jan-05        140.0       108.830329\n",
            "19   Feb-05        150.0       111.947296\n",
            "20   Mar-05        144.0       115.752567\n",
            "21   Apr-05        146.0       118.577310\n",
            "22   May-05        160.0       121.319579\n",
            "23   Jun-05        150.0       125.187621\n",
            "24   Jul-05        152.0       127.668859\n",
            "25   Aug-05        158.0       130.101973\n",
            "26   Sep-05        156.0       132.891776\n",
            "27   Oct-05        160.0       135.202598\n",
            "28   Nov-05        180.0       137.682338\n",
            "29   Dec-05        166.0       141.914105\n",
            "30   Jan-06        170.0       144.322694\n",
            "31   Feb-06        172.0       146.890425\n",
            "32   Mar-06        170.0       149.401382\n",
            "33   Apr-06        176.0       151.461244\n",
            "34   May-06        174.0       153.915120\n",
            "35   Jun-06        178.0       155.923608\n",
            "36   Jul-06        180.0       158.131247\n",
            "37   Aug-06        178.0       160.318122\n",
            "38   Sep-06        188.0       162.086310\n",
            "39   Oct-06        184.0       164.677679\n",
            "40   Nov-06        184.0       166.609911\n",
            "41   Dec-06        186.0       168.348920\n",
            "42   Jan-07        190.0       170.114028\n",
            "43   Feb-07        188.0       172.102625\n",
            "44   Mar-07        192.0       173.692363\n",
            "45   Apr-07        190.0       175.523126\n",
            "46   May-07        196.0       176.970814\n",
            "47   Jun-07        194.0       178.873732\n",
            "48   Jul-07        198.0       180.386359\n",
            "49   Aug-07        198.0       182.147723\n",
            "50   Sep-07        200.0       183.732951\n",
            "51   Oct-07        202.0       185.359656\n",
            "52   Nov-07        206.0       187.023690\n",
            "53   Dec-07        204.0       188.921321\n",
            "54   Jan-08        210.0       190.429189\n",
            "55   Feb-08        208.0       192.386270\n",
            "56   Mar-08        214.0       193.947643\n",
            "57   Apr-08        212.0       195.952879\n",
            "58   May-08        216.0       197.557591\n",
            "59   Jun-08        220.0       199.401832\n",
            "60   Jul-08        218.0       201.461649\n",
            "61   Aug-08        218.0       203.115484\n",
            "62   Sep-08        222.0       204.603935\n",
            "63   Oct-08        220.0       206.343542\n",
            "64   Nov-08        216.0       207.709188\n",
            "65   Dec-08        222.0       208.538269\n",
            "66   Jan-09        228.0       209.884442\n",
            "67   Feb-09        226.0       211.695998\n",
            "68   Mar-09        230.0       213.126398\n",
            "69   Apr-09        228.0       214.813758\n",
            "70   May-09        234.0       216.132382\n",
            "71   Jun-09        232.0       217.919144\n",
            "72   Jul-09        238.0       219.327230\n",
            "73   Aug-09        236.0       221.194507\n",
            "74   Sep-09        240.0       222.675056\n",
            "75   Oct-09        238.0       224.407550\n",
            "76   Nov-09        244.0       225.766795\n",
            "77   Dec-09        242.0       227.590116\n",
            "78   Jan-10        248.0       229.031104\n",
            "79   Feb-10        246.0       230.927994\n",
            "80   Mar-10        246.0       232.435194\n",
            "81   Apr-10        250.0       233.791675\n",
            "82   May-10        254.0       235.412508\n",
            "83   Jun-10        252.0       237.271257\n",
            "84   Jul-10        256.0       238.744131\n",
            "85   Aug-10        260.0       240.469718\n",
            "86   Sep-10        258.0       242.422746\n",
            "87   Oct-10        258.0       243.980472\n",
            "88   Nov-10        264.0       245.382424\n",
            "89   Dec-10        260.0       247.244182\n",
            "90   Jan-11        262.0       248.519764\n",
            "91   Feb-11        268.0       249.867787\n",
            "92   Mar-11        264.0       251.681009\n",
            "93   Apr-11        266.0       252.912908\n",
            "94   May-11        270.0       254.221617\n",
            "95   Jun-11        268.0       255.799455\n",
            "96   Jul-11        274.0       257.019510\n",
            "97   Aug-11        272.0       258.717559\n",
            "98   Sep-11        278.0       260.045803\n",
            "99   Oct-11        276.0       261.841223\n",
            "100  Nov-11        276.0       263.257100\n",
            "101  Dec-11        280.0       264.531390\n",
            "102  Jan-12        278.0       266.078251\n",
            "103  Feb-12        282.0       267.270426\n",
            "104  Mar-12        284.0       268.743384\n",
            "105  Apr-12        288.0       270.269045\n",
            "106  May-12        286.0       272.042141\n",
            "107  Jun-12        294.0       273.437927\n",
            "108  Jul-12        290.0       275.494134\n",
            "109  Aug-12        294.0       276.944721\n",
            "110  Sep-12        300.0       278.650248\n",
            "111  Oct-12        296.0       280.785224\n",
            "112  Nov-12        298.0       282.306701\n",
            "113  Dec-12        310.0       283.876031\n",
            "114  Jan-13        302.0       286.488428\n",
            "115  Feb-13        308.0       288.039585\n",
            "116  Mar-13        314.0       290.035627\n",
            "117  Apr-13        308.0       292.432064\n",
            "118  May-13        312.0       293.988858\n",
            "119  Jun-13        318.0       295.789972\n",
            "120  Jul-13        314.0       298.010975\n",
            "121  Aug-13        316.0       299.609877\n",
            "122  Sep-13        326.0       301.248889\n",
            "123  Oct-13        322.0       303.724001\n",
            "124  Nov-13        322.0       305.551600\n",
            "125  Dec-13        324.0       307.196440\n",
            "126  Jan-14        330.0       308.876796\n",
            "127  Feb-14        328.0       310.989117\n",
            "128  Mar-14        336.0       312.690205\n",
            "129  Apr-14        332.0       315.021185\n",
            "130  May-14        338.0       316.719066\n",
            "131  Jun-14        336.0       318.847160\n",
            "132  Jul-14        344.0       320.562444\n",
            "133  Aug-14        340.0       322.906199\n",
            "134  Sep-14        348.0       324.615579\n",
            "135  Oct-14        346.0       326.954021\n",
            "136  Nov-14        346.0       328.858619\n",
            "137  Dec-14        352.0       330.572757\n",
            "138  Jan-15        350.0       332.715482\n",
            "139  Feb-15        350.0       334.443933\n",
            "140  Mar-15        358.0       335.999540\n",
            "141  Apr-15        354.0       338.199586\n",
            "142  May-15        360.0       339.779627\n",
            "143  Jun-15        366.0       341.801665\n",
            "144  Jul-15        362.0       344.221498\n",
            "145  Aug-15        364.0       345.999348\n",
            "146  Sep-15        368.0       347.799414\n",
            "147  Oct-15        366.0       349.819472\n",
            "148  Nov-15        370.0       351.437525\n",
            "149  Dec-15        370.0       353.293772\n",
            "150  Jan-16        374.0       354.964395\n",
            "151  Feb-16        372.0       356.867956\n",
            "152  Mar-16        380.0       358.381160\n",
            "153  Apr-16        376.0       360.543044\n",
            "154  May-16        378.0       362.088740\n",
            "155  Jun-16        384.0       363.679866\n",
            "156  Jul-16        380.0       365.711879\n",
            "157  Aug-16        382.0       367.140691\n",
            "158  Sep-16        390.0       368.626622\n",
            "159  Oct-16        386.0       370.763960\n",
            "160  Nov-16        388.0       372.287564\n",
            "161  Dec-16        396.0       373.858808\n",
            "162  Jan-17        390.0       376.072927\n",
            "163  Feb-17        392.0       377.465634\n",
            "164  Mar-17        396.0       378.919071\n",
            "165  Apr-17        394.0       380.627164\n",
            "166  May-17        398.0       381.964447\n",
            "167  Jun-17        402.0       383.568003\n",
            "168  Jul-17        400.0       385.411202\n",
            "169  Aug-17        400.0       386.870082\n",
            "170  Sep-17        408.0       388.183074\n",
            "171  Oct-17        404.0       390.164766\n",
            "172  Nov-17        410.0       391.548290\n",
            "173  Dec-17        408.0       393.393461\n",
            "174  Jan-18        412.0       394.854115\n",
            "175  Feb-18        410.0       396.568703\n",
            "176  Mar-18        416.0       397.911833\n",
            "177  Apr-18        414.0       399.720650\n",
            "178  May-18        414.0       401.148585\n",
            "179  Jun-18        420.0       402.433726\n",
            "180  Jul-18        416.0       404.190354\n",
            "181  Aug-18        418.0       405.371318\n",
            "182  Sep-18        426.0       406.634186\n",
            "183  Oct-18        420.0       408.570768\n",
            "184  Nov-18        422.0       409.713691\n",
            "185  Dec-18        428.0       410.942322\n",
            "186  Jan-19        424.0       412.648090\n",
            "187  Feb-19        430.0       413.783281\n",
            "188  Mar-19        432.0       415.404953\n",
            "189  Apr-19        436.0       417.064457\n",
            "190  May-19        434.0       418.958012\n",
            "191  Jun-19        434.0       420.462210\n",
            "192  Jul-19        440.0       421.815989\n",
            "193  Aug-19        436.0       423.634390\n",
            "194  Sep-19        438.0       424.870951\n",
            "195  Oct-19        442.0       426.183856\n",
            "196  Nov-19        440.0       427.765471\n",
            "197  Dec-19        448.0       428.988924\n",
            "198  Jan-20        444.0       430.890031\n",
            "199  Feb-20        446.0       432.201028\n",
            "200  Mar-20        448.0       433.580925\n",
            "201  Apr-20        452.0       435.022833\n",
            "202  May-20        450.0       436.720549\n",
            "203  Jun-20        456.0       438.048495\n",
            "204  Jul-20        454.0       439.843645\n",
            "205  Aug-20        458.0       441.259281\n",
            "206  Sep-20        458.0       442.933353\n",
            "207  Oct-20        462.0       444.440017\n",
            "208  Nov-20        460.0       446.196016\n",
            "209  Dec-20        466.0       447.576414\n",
            "210  Jan-21        464.0       449.418773\n",
            "211  Feb-21        470.0       450.876895\n",
            "212  Mar-21        468.0       452.789206\n",
            "213  Apr-21        468.0       454.310285\n",
            "214  May-21        474.0       455.679257\n",
            "215  Jun-21        470.0       457.511331\n",
            "216  Jul-21        472.0       458.760198\n",
            "217  Aug-21        478.0       460.084178\n",
            "218  Sep-21        474.0       461.875760\n",
            "219  Oct-21        480.0       463.088184\n",
            "220  Nov-21        478.0       464.779366\n",
            "221  Dec-21        488.0       466.101429\n",
            "222  Jan-22        482.0       468.291286\n",
            "223  Feb-22        484.0       469.662158\n",
            "224  Mar-22        490.0       471.095942\n",
            "225  Apr-22        494.0       472.986348\n",
            "226  May-22        492.0       475.087713\n",
            "227  Jun-22        500.0       476.778942\n",
            "228  Jul-22          NaN       479.101048\n"
          ]
        }
      ]
    },
    {
      "cell_type": "markdown",
      "source": [
        "**Penyelesaiannya :**\n",
        "\n",
        "Perkiraan Permintaan untuk bulan Agustus adalah :\n",
        "\n",
        "**Ft + 1** = 0 + 0.1 * (100 - 0)\n",
        "\n",
        "**Ft + 1** = 10\n",
        "\n",
        "Jadi, perkiraan permintaan Sabun Muka pada Bulan Agustus adalah sekitar 10 unit.\n",
        "\n",
        "Kita dapat melanjutkan lagi untuk bulan September dengan menggunakan data perkiraan permintaan yang dihitung tersebut atau dengan menunggu hasil aktual pada bulan yang bersangkutan. Misalnya data aktual pada bulan Agustus yang didapat adalah 106 unit, maka perhitungannya adalah sebagai berikut :\n",
        "\n",
        "**Ft + 1** = 10 + 0.1 * (106 - 10)\n",
        "\n",
        "**Ft + 1** = 19,6\n",
        "\n",
        "Dengan perhitungan tersebut didapat bahwa perkiraan penjualan Sabun Muka untuk bulan September adalah sekitar 19,6 unit.\n",
        "\n",
        "Berikut ini adalah contoh tabel dan grafik perhitungan peramalan atau perkiraan permintaan beserta data aktual penjualannya."
      ],
      "metadata": {
        "id": "m7cslpO-M4bh"
      }
    },
    {
      "cell_type": "code",
      "source": [
        "# Mengimpor library\n",
        "import numpy as np\n",
        "import matplotlib.pyplot as plt\n",
        "\n",
        "plt.plot(iya['Bulan'], iya['Data Aktual'], label='Data Aktual')\n",
        "plt.plot(iya['Bulan'], iya['Ramalan α = 0.1'], label='Ramalan α = 0.1')\n",
        "plt.xlabel('Bulan')\n",
        "plt.ylabel('Penjualan dengan Exponential Smoothing')\n",
        "plt.title('Penjualan Sabun Muka per Bulan dari Tahun 2003 - 2022')\n",
        "plt.grid(True)\n",
        "plt.legend()"
      ],
      "metadata": {
        "colab": {
          "base_uri": "https://localhost:8080/",
          "height": 312
        },
        "id": "77F8xpe0JEbe",
        "outputId": "bd156525-7d42-4d5b-ffaa-9a7cc2c0ab41"
      },
      "execution_count": null,
      "outputs": [
        {
          "output_type": "execute_result",
          "data": {
            "text/plain": [
              "<matplotlib.legend.Legend at 0x7fb5062b3650>"
            ]
          },
          "metadata": {},
          "execution_count": 27
        },
        {
          "output_type": "display_data",
          "data": {
            "text/plain": [
              "<Figure size 432x288 with 1 Axes>"
            ],
            "image/png": "[encoded data removed]"
          },
          "metadata": {
            "needs_background": "light"
          }
        }
      ]
    },
    {
      "cell_type": "markdown",
      "source": [
        "### **Penentuan Nilai Konstanta Pada Metode Peramalan Exponential Smoothing**\n",
        "\n",
        "Nilai konstanta dapat ditentukan dengan cara trial dan error (coba - coba). Namun dapat menggunakan rumus dibawah ini :\n",
        "\n",
        "**α = 2 / (n + 1)**\n",
        "\n",
        "Dimana :\n",
        "\n",
        "**α** = Nilai Konstanta\n",
        "\n",
        "**n** = Jumlah Periode Waktu\n",
        "\n",
        "Contoh :\n",
        "\n",
        "Bila data terdiri dari 9 bulan, maka α dapat diperoleh dengan menggunakan perhitungan sebagai berikut :\n",
        "\n",
        "**α = 2 / (n + 1)**\n",
        "\n",
        "**α** = 2 / (9 + 1)\n",
        "\n",
        "**α** = 2 / 10\n",
        "\n",
        "**α** = 0,2"
      ],
      "metadata": {
        "id": "gbpzYJS6skjt"
      }
    },
    {
      "cell_type": "markdown",
      "source": [
        "# **MOVING AVERAGE**"
      ],
      "metadata": {
        "id": "6Ll-FeXNAoS4"
      }
    },
    {
      "cell_type": "markdown",
      "source": [
        "Moving Average atau Rata - rata Bergerak adalah satu metode peramalan bisnis yang sederhana dan sering digunakan untuk memperkirakan kondisi pada masa yang akan datang dengan menggunakan kumpulan data - data masa lalu (data - data historis). Dalam Manajemen Operasi dan Produksi, kumpulan data disini dapat berupa volume penjualan dari historis perusahaan. Periode waktu kumpulan data tersebut dapat berupa Tahunan, Bulanan, Mingguan bahkan Harian. Metode Peramalan Moving Average ini sering digunakan dalam peramalan bisnis seperti peramalan permintaan pasar (demand forecasting), analisis teknikal pergerakan saham dan forex serta memperkirakan tren-tren bisnis di masa yang akan datang."
      ],
      "metadata": {
        "id": "0A1UX_AWVPZB"
      }
    },
    {
      "cell_type": "markdown",
      "source": [
        "### **Pengertian Moving Average (Rata - rata Bergerak)**\n",
        "\n",
        "Pada dasarnya, Pengertian Moving Average atau Rata-rata bergerak adalah metode peramalan yang menghitung rata-rata suatu nilai runtut waktu dan kemudian digunakan untuk memperkirakan nilai pada periode selanjutnya. Moving Average atau Rata-rata Bergerak diperoleh melalui penjumlahan dan pencarian nilai rata-rata dari sejumlah periode tertentu, kemudian menghilangkan nilai terlamanya dan menambah nilai baru.\n",
        "\n",
        "Metode Moving Average ini lebih baik digunakan untuk menghitung data yang bersifat stabil atau data yang tidak berfluktuasi dengan tajam (data yang perubahan naik dan turunnya sangat drastis). Hal ini dikarenakan data pada setiap periode diberikan bobot yang sama sehingga tidak dapat mewakilkan periode-periode tertentu yang bersifat khusus ataupun data periode terakhir yang biasanya dinilai sebagai data yang terbaik dalam mengambarkan kondisi terkini. \n",
        "\n",
        "Oleh karena itu, munculah Metode-metode Moving Average yang lain untuk mencoba mengatasinya, metode moving average yang lain diantaranya adalah Metode Weighted Moving Average (Rata-rata Bergerak Berbobot) atau disingkat dengan WMA dan Metode Exponential Smoothing (Metode Penghalusan Bertingkat). Sedangkan Metode Moving Average yang sederhana ini sering disebut dengan Simple Moving Average atau disingkat dengan SMA."
      ],
      "metadata": {
        "id": "93FSzb_AK_LG"
      }
    },
    {
      "cell_type": "markdown",
      "source": [
        "### **Rumus Moving Average (Rumus Rata - rata Bergerak)**\n",
        "\n",
        "Rumus Moving Average atau Rata - rata Bergerak adalah sebagai berikut :\n",
        "\n",
        "**MA = ΣX / Jumlah Periode**\n",
        "\n",
        "Keterangan :\n",
        "\n",
        "**MA** = Moving Average\n",
        "\n",
        "**ΣX** = Keseluruhan Penjumlahan Dari Semua Data Periode Waktu Yang Diperhitungkan\n",
        "\n",
        "**Jumlah Periode** = Jumlah Periode Rata - rata Bergerak\n",
        "\n",
        "atau dapat ditulis dengan :\n",
        "\n",
        "**MA = (n1 + n2 + n3 + ...) / n**\n",
        "\n",
        "Keterangan :\n",
        "\n",
        "**MA** = Moving Average\n",
        "\n",
        "**n1** = Data Periode Pertama\n",
        "\n",
        "**n2** = Data Periode Kedua\n",
        "\n",
        "**n3** = Data Periode Ketiga Dan Seterusnya\n",
        "\n",
        "**n** = Jumlah Periode Rata - rata Bergerak"
      ],
      "metadata": {
        "id": "AeZX3lWwUn23"
      }
    },
    {
      "cell_type": "markdown",
      "source": [
        "### **Contoh Kasus dan Cara Menghitung Moving Average (Rata - rata Bergerak)**\n",
        "\n",
        "Toko Jaya yang bergerak di bidang kosmetik Sabun Muka ingin meramalkan penjualan Sabun Muka dari bulan Oktober tahun 2003 sampai bulan Juni 2022 dengan menggunakan data bulanannya yang dimulai dari bulan Juli. Periode Rata - rata bergeraknya adalah 3 bulan. Berikut ini adalah cara dan hasil perhitungannya.\n",
        "\n"
      ],
      "metadata": {
        "id": "ZoB4sWr1U0VO"
      }
    },
    {
      "cell_type": "code",
      "source": [
        "from google.colab import files\n",
        "uploaded = files.upload()"
      ],
      "metadata": {
        "colab": {
          "resources": {
            "http://localhost:8080/nbextensions/google.colab/files.js": {
              "data": "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",
              "ok": true,
              "headers": [
                [
                  "content-type",
                  "application/javascript"
                ]
              ],
              "status": 200,
              "status_text": ""
            }
          },
          "base_uri": "https://localhost:8080/",
          "height": 73
        },
        "id": "6qDfGoatbQ9f",
        "outputId": "fc2ccbaf-72d0-4a8d-ab21-bb12620c386c"
      },
      "execution_count": null,
      "outputs": [
        {
          "output_type": "display_data",
          "data": {
            "text/plain": [
              "<IPython.core.display.HTML object>"
            ],
            "text/html": [
              "\n",
              "     <input type=\"file\" id=\"files-6e644c0a-10ef-4bb7-92e1-42a9a501f1d9\" name=\"files[]\" multiple disabled\n",
              "        style=\"border:none\" />\n",
              "     <output id=\"result-6e644c0a-10ef-4bb7-92e1-42a9a501f1d9\">\n",
              "      Upload widget is only available when the cell has been executed in the\n",
              "      current browser session. Please rerun this cell to enable.\n",
              "      </output>\n",
              "      <script src=\"/nbextensions/google.colab/files.js\"></script> "
            ]
          },
          "metadata": {}
        },
        {
          "output_type": "stream",
          "name": "stdout",
          "text": [
            "Saving Data-Penjualan-Sabun.csv to Data-Penjualan-Sabun (1).csv\n"
          ]
        }
      ]
    },
    {
      "cell_type": "code",
      "source": [
        "#import ke pandas\n",
        "import pandas as pd\n",
        "hah = pd.read_csv('Data-Penjualan-Sabun.csv', parse_dates=['Bulan'])\n",
        "print(hah.to_string())"
      ],
      "metadata": {
        "colab": {
          "base_uri": "https://localhost:8080/"
        },
        "id": "eNXg4c0ObmpD",
        "outputId": "27745e3c-87a5-4129-c240-1c84da5c32ae"
      },
      "execution_count": null,
      "outputs": [
        {
          "output_type": "stream",
          "name": "stdout",
          "text": [
            "      Bulan  Data Aktual  Data Prediksi\n",
            "0    Jul-03        100.0            NaN\n",
            "1    Aug-03        106.0            NaN\n",
            "2    Sep-03        102.0            NaN\n",
            "3    Oct-03        110.0     102.666667\n",
            "4    Nov-03        108.0     106.000000\n",
            "5    Dec-03        114.0     106.666667\n",
            "6    Jan-04        120.0     110.666667\n",
            "7    Feb-04        116.0     114.000000\n",
            "8    Mar-04        118.0     116.666667\n",
            "9    Apr-04        122.0     118.000000\n",
            "10   May-04        130.0     118.666667\n",
            "11   Jun-04        126.0     123.333333\n",
            "12   Jul-04        134.0     126.000000\n",
            "13   Aug-04        132.0     130.000000\n",
            "14   Sep-04        138.0     130.666667\n",
            "15   Oct-04        136.0     134.666667\n",
            "16   Nov-04        138.0     135.333333\n",
            "17   Dec-04        140.0     137.333333\n",
            "18   Jan-05        140.0     138.000000\n",
            "19   Feb-05        150.0     139.333333\n",
            "20   Mar-05        144.0     143.333333\n",
            "21   Apr-05        146.0     144.666667\n",
            "22   May-05        160.0     146.666667\n",
            "23   Jun-05        150.0     150.000000\n",
            "24   Jul-05        152.0     152.000000\n",
            "25   Aug-05        158.0     154.000000\n",
            "26   Sep-05        156.0     153.333333\n",
            "27   Oct-05        160.0     155.333333\n",
            "28   Nov-05        180.0     158.000000\n",
            "29   Dec-05        166.0     165.333333\n",
            "30   Jan-06        170.0     168.666667\n",
            "31   Feb-06        172.0     172.000000\n",
            "32   Mar-06        170.0     169.333333\n",
            "33   Apr-06        176.0     170.666667\n",
            "34   May-06        174.0     172.666667\n",
            "35   Jun-06        178.0     173.333333\n",
            "36   Jul-06        180.0     176.000000\n",
            "37   Aug-06        178.0     177.333333\n",
            "38   Sep-06        188.0     178.666667\n",
            "39   Oct-06        184.0     182.000000\n",
            "40   Nov-06        184.0     183.333333\n",
            "41   Dec-06        186.0     185.333333\n",
            "42   Jan-07        190.0     184.666667\n",
            "43   Feb-07        188.0     186.666667\n",
            "44   Mar-07        192.0     188.000000\n",
            "45   Apr-07        190.0     190.000000\n",
            "46   May-07        196.0     190.000000\n",
            "47   Jun-07        194.0     192.666667\n",
            "48   Jul-07        198.0     193.333333\n",
            "49   Aug-07        198.0     196.000000\n",
            "50   Sep-07        200.0     196.666667\n",
            "51   Oct-07        202.0     198.666667\n",
            "52   Nov-07        206.0     200.000000\n",
            "53   Dec-07        204.0     202.666667\n",
            "54   Jan-08        210.0     204.000000\n",
            "55   Feb-08        208.0     206.666667\n",
            "56   Mar-08        214.0     207.333333\n",
            "57   Apr-08        212.0     210.666667\n",
            "58   May-08        216.0     211.333333\n",
            "59   Jun-08        220.0     214.000000\n",
            "60   Jul-08        218.0     216.000000\n",
            "61   Aug-08        218.0     218.000000\n",
            "62   Sep-08        222.0     218.666667\n",
            "63   Oct-08        220.0     219.333333\n",
            "64   Nov-08        216.0     220.000000\n",
            "65   Dec-08        222.0     219.333333\n",
            "66   Jan-09        228.0     219.333333\n",
            "67   Feb-09        226.0     222.000000\n",
            "68   Mar-09        230.0     225.333333\n",
            "69   Apr-09        228.0     228.000000\n",
            "70   May-09        234.0     228.000000\n",
            "71   Jun-09        232.0     230.666667\n",
            "72   Jul-09        238.0     231.333333\n",
            "73   Aug-09        236.0     234.666667\n",
            "74   Sep-09        240.0     235.333333\n",
            "75   Oct-09        238.0     238.000000\n",
            "76   Nov-09        244.0     238.000000\n",
            "77   Dec-09        242.0     240.666667\n",
            "78   Jan-10        248.0     241.333333\n",
            "79   Feb-10        246.0     244.666667\n",
            "80   Mar-10        246.0     245.333333\n",
            "81   Apr-10        250.0     246.666667\n",
            "82   May-10        254.0     247.333333\n",
            "83   Jun-10        252.0     250.000000\n",
            "84   Jul-10        256.0     252.000000\n",
            "85   Aug-10        260.0     254.000000\n",
            "86   Sep-10        258.0     256.000000\n",
            "87   Oct-10        258.0     258.000000\n",
            "88   Nov-10        264.0     258.666667\n",
            "89   Dec-10        260.0     260.000000\n",
            "90   Jan-11        262.0     260.666667\n",
            "91   Feb-11        268.0     262.000000\n",
            "92   Mar-11        264.0     263.333333\n",
            "93   Apr-11        266.0     264.666667\n",
            "94   May-11        270.0     266.000000\n",
            "95   Jun-11        268.0     266.666667\n",
            "96   Jul-11        274.0     268.000000\n",
            "97   Aug-11        272.0     270.666667\n",
            "98   Sep-11        278.0     271.333333\n",
            "99   Oct-11        276.0     274.666667\n",
            "100  Nov-11        276.0     275.333333\n",
            "101  Dec-11        280.0     276.666667\n",
            "102  Jan-12        278.0     277.333333\n",
            "103  Feb-12        282.0     278.000000\n",
            "104  Mar-12        284.0     280.000000\n",
            "105  Apr-12        288.0     281.333333\n",
            "106  May-12        286.0     284.666667\n",
            "107  Jun-12        294.0     286.000000\n",
            "108  Jul-12        290.0     289.333333\n",
            "109  Aug-12        294.0     290.000000\n",
            "110  Sep-12        300.0     292.666667\n",
            "111  Oct-12        296.0     294.666667\n",
            "112  Nov-12        298.0     296.666667\n",
            "113  Dec-12        310.0     298.000000\n",
            "114  Jan-13        302.0     301.333333\n",
            "115  Feb-13        308.0     303.333333\n",
            "116  Mar-13        314.0     306.666667\n",
            "117  Apr-13        308.0     308.000000\n",
            "118  May-13        312.0     310.000000\n",
            "119  Jun-13        318.0     311.333333\n",
            "120  Jul-13        314.0     312.666667\n",
            "121  Aug-13        316.0     314.666667\n",
            "122  Sep-13        326.0     316.000000\n",
            "123  Oct-13        322.0     318.666667\n",
            "124  Nov-13        322.0     321.333333\n",
            "125  Dec-13        324.0     323.333333\n",
            "126  Jan-14        330.0     322.666667\n",
            "127  Feb-14        328.0     325.333333\n",
            "128  Mar-14        336.0     327.333333\n",
            "129  Apr-14        332.0     331.333333\n",
            "130  May-14        338.0     332.000000\n",
            "131  Jun-14        336.0     335.333333\n",
            "132  Jul-14        344.0     335.333333\n",
            "133  Aug-14        340.0     339.333333\n",
            "134  Sep-14        348.0     340.000000\n",
            "135  Oct-14        346.0     344.000000\n",
            "136  Nov-14        346.0     344.666667\n",
            "137  Dec-14        352.0     346.666667\n",
            "138  Jan-15        350.0     348.000000\n",
            "139  Feb-15        350.0     349.333333\n",
            "140  Mar-15        358.0     350.666667\n",
            "141  Apr-15        354.0     352.666667\n",
            "142  May-15        360.0     354.000000\n",
            "143  Jun-15        366.0     357.333333\n",
            "144  Jul-15        362.0     360.000000\n",
            "145  Aug-15        364.0     362.666667\n",
            "146  Sep-15        368.0     364.000000\n",
            "147  Oct-15        366.0     364.666667\n",
            "148  Nov-15        370.0     366.000000\n",
            "149  Dec-15        370.0     368.000000\n",
            "150  Jan-16        374.0     368.666667\n",
            "151  Feb-16        372.0     371.333333\n",
            "152  Mar-16        380.0     372.000000\n",
            "153  Apr-16        376.0     375.333333\n",
            "154  May-16        378.0     376.000000\n",
            "155  Jun-16        384.0     378.000000\n",
            "156  Jul-16        380.0     379.333333\n",
            "157  Aug-16        382.0     380.666667\n",
            "158  Sep-16        390.0     382.000000\n",
            "159  Oct-16        386.0     384.000000\n",
            "160  Nov-16        388.0     386.000000\n",
            "161  Dec-16        396.0     388.000000\n",
            "162  Jan-17        390.0     390.000000\n",
            "163  Feb-17        392.0     391.333333\n",
            "164  Mar-17        396.0     392.666667\n",
            "165  Apr-17        394.0     392.666667\n",
            "166  May-17        398.0     394.000000\n",
            "167  Jun-17        402.0     396.000000\n",
            "168  Jul-17        400.0     398.000000\n",
            "169  Aug-17        400.0     400.000000\n",
            "170  Sep-17        408.0     400.666667\n",
            "171  Oct-17        404.0     402.666667\n",
            "172  Nov-17        410.0     404.000000\n",
            "173  Dec-17        408.0     407.333333\n",
            "174  Jan-18        412.0     407.333333\n",
            "175  Feb-18        410.0     410.000000\n",
            "176  Mar-18        416.0     410.000000\n",
            "177  Apr-18        414.0     412.666667\n",
            "178  May-18        414.0     413.333333\n",
            "179  Jun-18        420.0     414.666667\n",
            "180  Jul-18        416.0     416.000000\n",
            "181  Aug-18        418.0     416.666667\n",
            "182  Sep-18        426.0     418.000000\n",
            "183  Oct-18        420.0     420.000000\n",
            "184  Nov-18        422.0     421.333333\n",
            "185  Dec-18        428.0     422.666667\n",
            "186  Jan-19        424.0     423.333333\n",
            "187  Feb-19        430.0     424.666667\n",
            "188  Mar-19        432.0     427.333333\n",
            "189  Apr-19        436.0     428.666667\n",
            "190  May-19        434.0     432.666667\n",
            "191  Jun-19        434.0     434.000000\n",
            "192  Jul-19        440.0     434.666667\n",
            "193  Aug-19        436.0     436.000000\n",
            "194  Sep-19        438.0     436.666667\n",
            "195  Oct-19        442.0     438.000000\n",
            "196  Nov-19        440.0     438.666667\n",
            "197  Dec-19        448.0     440.000000\n",
            "198  Jan-20        444.0     443.333333\n",
            "199  Feb-20        446.0     444.000000\n",
            "200  Mar-20        448.0     446.000000\n",
            "201  Apr-20        452.0     446.000000\n",
            "202  May-20        450.0     448.666667\n",
            "203  Jun-20        456.0     450.000000\n",
            "204  Jul-20        454.0     452.666667\n",
            "205  Aug-20        458.0     453.333333\n",
            "206  Sep-20        458.0     456.000000\n",
            "207  Oct-20        462.0     456.666667\n",
            "208  Nov-20        460.0     459.333333\n",
            "209  Dec-20        466.0     460.000000\n",
            "210  Jan-21        464.0     462.666667\n",
            "211  Feb-21        470.0     463.333333\n",
            "212  Mar-21        468.0     466.666667\n",
            "213  Apr-21        468.0     467.333333\n",
            "214  May-21        474.0     468.666667\n",
            "215  Jun-21        470.0     470.000000\n",
            "216  Jul-21        472.0     470.666667\n",
            "217  Aug-21        478.0     472.000000\n",
            "218  Sep-21        474.0     473.333333\n",
            "219  Oct-21        480.0     474.666667\n",
            "220  Nov-21        478.0     477.333333\n",
            "221  Dec-21        488.0     477.333333\n",
            "222  Jan-22        482.0     482.000000\n",
            "223  Feb-22        484.0     482.666667\n",
            "224  Mar-22        490.0     484.666667\n",
            "225  Apr-22        494.0     485.333333\n",
            "226  May-22        492.0     489.333333\n",
            "227  Jun-22        500.0     492.000000\n",
            "228  Jul-22          NaN     495.333333\n"
          ]
        }
      ]
    },
    {
      "cell_type": "markdown",
      "source": [
        "**Penyelesaiannya :**\n",
        "\n",
        "Perkiraan Penjualan untuk bulan Oktober adalah :\n",
        "\n",
        "**MA Oktober** = (100 + 106 + 102) / 3\n",
        "\n",
        "**MA Oktober** = 308 / 3\n",
        "\n",
        "**MA Oktober** = 102,6666667\n",
        "\n",
        "Jadi perkiraan penjualan Sabun Muka pada bulan April adalah sekitar 102,6666667 unit.\n",
        "\n",
        "Kita dapat melanjutkan lagi untuk bulan November dengan menggunakan data perkiraan yang dihitung tersebut atau dengan menunggu hasil aktual pada bulan yang bersangkutan. Misalnya data aktual pada bulan Oktober yang didapat adalah 110 unit, maka perhitungannya adalah sebagai berikut :\n",
        "\n",
        "**MA November** = (106 + 102 + 110) / 3\n",
        "\n",
        "**MA November** = 318 / 3\n",
        "\n",
        "**MA November** = 106\n",
        "\n",
        "Dengan perhitungan tersebut didapat bahwa perkiraan penjualan Sabun Muka untuk bulan November adalah sekitar 106 unit.\n",
        "\n",
        "Berikut ini adalah contoh tabel dan grafik perhitungan peramalan atau perkiraan penjualan beserta data aktual penjualannya."
      ],
      "metadata": {
        "id": "ppl-yiQsdcdR"
      }
    },
    {
      "cell_type": "code",
      "source": [
        "# Mengimpor library\n",
        "import numpy as np\n",
        "import matplotlib.pyplot as plt\n",
        "\n",
        "plt.plot(hah['Bulan'], hah['Data Aktual'], label='Data Aktual')\n",
        "plt.plot(hah['Bulan'], hah['Data Prediksi'], label='Data Prediksi')\n",
        "plt.xlabel('Bulan')\n",
        "plt.ylabel('Penjualan dengan Moving Average')\n",
        "plt.title('Penjualan Sabun Muka per Bulan dari Tahun 2003 - 2022')\n",
        "plt.grid(True)\n",
        "plt.legend()"
      ],
      "metadata": {
        "colab": {
          "base_uri": "https://localhost:8080/",
          "height": 312
        },
        "id": "d61njDGwxo-d",
        "outputId": "6ffc9ded-95fb-4302-fbab-7b92b5ed36f8"
      },
      "execution_count": null,
      "outputs": [
        {
          "output_type": "execute_result",
          "data": {
            "text/plain": [
              "<matplotlib.legend.Legend at 0x7fb5065dab10>"
            ]
          },
          "metadata": {},
          "execution_count": 25
        },
        {
          "output_type": "display_data",
          "data": {
            "text/plain": [
              "<Figure size 432x288 with 1 Axes>"
            ],
            "image/png": "[encoded data removed]"
          },
          "metadata": {
            "needs_background": "light"
          }
        }
      ]
    }
  ]
}